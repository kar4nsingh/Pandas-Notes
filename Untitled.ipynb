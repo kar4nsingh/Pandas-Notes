{
 "cells": [
  {
   "cell_type": "code",
   "execution_count": 1,
   "id": "7cbaf440-07c5-4b99-ba5e-6d5975d92e89",
   "metadata": {},
   "outputs": [],
   "source": [
    "import pandas as pd"
   ]
  },
  {
   "cell_type": "code",
   "execution_count": 5,
   "id": "8e672862-2ef9-4d2f-b94b-64d72a4a84f9",
   "metadata": {},
   "outputs": [],
   "source": [
    "data = pd.read_csv(r\"D:\\pYthon\\Pandas\\Data.csv\")"
   ]
  },
  {
   "cell_type": "code",
   "execution_count": 6,
   "id": "86e702fc-b0df-4559-983f-5df484054733",
   "metadata": {},
   "outputs": [
    {
     "name": "stdout",
     "output_type": "stream",
     "text": [
      "  name  age\n",
      "0    a   10\n",
      "1    b   20\n",
      "2    c   30\n",
      "3    d   40\n",
      "4    e   50\n",
      "5    f   60\n",
      "6    g   70\n"
     ]
    }
   ],
   "source": [
    "print(data)"
   ]
  },
  {
   "cell_type": "code",
   "execution_count": null,
   "id": "52f8158d-a7e3-4c02-8149-6dc5e5c582d4",
   "metadata": {},
   "outputs": [],
   "source": []
  }
 ],
 "metadata": {
  "kernelspec": {
   "display_name": "Python 3 (ipykernel)",
   "language": "python",
   "name": "python3"
  },
  "language_info": {
   "codemirror_mode": {
    "name": "ipython",
    "version": 3
   },
   "file_extension": ".py",
   "mimetype": "text/x-python",
   "name": "python",
   "nbconvert_exporter": "python",
   "pygments_lexer": "ipython3",
   "version": "3.12.7"
  }
 },
 "nbformat": 4,
 "nbformat_minor": 5
}
